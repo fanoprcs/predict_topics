{
 "cells": [
  {
   "cell_type": "markdown",
   "id": "3757e1a7-649b-4243-bee8-ff0f0967f9aa",
   "metadata": {},
   "source": [
    "#### 1. 印出每個特徵值和紅酒品質的共變數和相關係數"
   ]
  },
  {
   "cell_type": "code",
   "execution_count": 36,
   "id": "d38be23d-3b2e-4d74-908a-4e33e4a908ac",
   "metadata": {},
   "outputs": [
    {
     "name": "stdout",
     "output_type": "stream",
     "text": [
      "--- fixed acidity ---\n",
      "Covariance: 0.1743145047268051\n",
      "Correlation: 0.12405164911322429 \n",
      "\n",
      "--- volatile acidity ---\n",
      "Covariance: -0.056440563813922165\n",
      "Correlation: -0.3905577802640072 \n",
      "\n",
      "--- citric acid ---\n",
      "Covariance: 0.035589621562256896\n",
      "Correlation: 0.22637251431804134 \n",
      "\n",
      "--- residual sugar ---\n",
      "Covariance: 0.015625267668465396\n",
      "Correlation: 0.013731637340066277 \n",
      "\n",
      "--- chlorides ---\n",
      "Covariance: -0.0048964807976842935\n",
      "Correlation: -0.12890655993005268 \n",
      "\n",
      "--- free sulfur dioxide ---\n",
      "Covariance: -0.4276394604038405\n",
      "Correlation: -0.05065605724427635 \n",
      "\n",
      "--- total sulfur dioxide ---\n",
      "Covariance: -4.914161876501144\n",
      "Correlation: -0.18510028892653782 \n",
      "\n",
      "--- density ---\n",
      "Covariance: -0.0002664369733897944\n",
      "Correlation: -0.17491922778334873 \n",
      "\n",
      "--- pH ---\n",
      "Covariance: -0.007193320872449596\n",
      "Correlation: -0.057731391205382156 \n",
      "\n",
      "--- sulphates ---\n",
      "Covariance: 0.034391886580144485\n",
      "Correlation: 0.2513970790692614 \n",
      "\n",
      "--- alcohol ---\n",
      "Covariance: 0.4095327325044069\n",
      "Correlation: 0.476166324001136 \n",
      "\n"
     ]
    }
   ],
   "source": [
    "import pandas as pd\n",
    "import numpy as np\n",
    "\n",
    "\n",
    "df = pd.read_csv('winequality-red.csv')\n",
    "table = np.array(df.values)\n",
    "x = []\n",
    "for i in range(table.shape[1] - 1):\n",
    "    x.append(table[:,i])\n",
    "y = table[:,11]\n",
    "y_mean = y.mean()\n",
    "for i in range(table.shape[1] - 1):\n",
    "    print(\"---\", df.columns[i], \"---\")\n",
    "    x_mean = x[i].mean()\n",
    "    diff = (x[i] - x_mean)*(y - y_mean)\n",
    "    covar = diff.sum() / table.shape[0]\n",
    "    print(\"Covariance:\", covar)\n",
    "    corr = covar / (x[i].std() * y.std())\n",
    "    print(\"Correlation:\", corr, \"\\n\")"
   ]
  },
  {
   "cell_type": "markdown",
   "id": "e25e57a5-ebd7-4ab6-bab7-d7cf429aa4c9",
   "metadata": {},
   "source": [
    "----------------------------------------------------\n",
    "#### 2. 建立模型並選擇預測資料\n",
    "觀察上述資料，挑選出四個關聯性較大的欄位，  \n",
    "分別是 volatile acidity、citric acid、sulphates、alcohol\n",
    "\n",
    "- volatile acidity"
   ]
  },
  {
   "cell_type": "code",
   "execution_count": 56,
   "id": "89f51462-6829-42c5-a559-842dd0e7563b",
   "metadata": {},
   "outputs": [
    {
     "name": "stdout",
     "output_type": "stream",
     "text": [
      "--- volatile acidity ---\n",
      "train score: 0.1656069887392485\n",
      "test score: 0.12073721055673203\n",
      "[5.30786745]\n"
     ]
    }
   ],
   "source": [
    "import numpy as np\n",
    "import pandas as pd\n",
    "from sklearn.linear_model import LinearRegression\n",
    "from sklearn.model_selection import train_test_split\n",
    "\n",
    "i = 1\n",
    "print(\"---\", df.columns[i], \"---\")\n",
    "X = pd.DataFrame(x[i], columns=[str(df.columns[i])])\n",
    "y = pd.Series(y)\n",
    "XTrain, XTest, yTrain, yTest = train_test_split(X, y, test_size=0.3,\n",
    "                                                random_state=5)\n",
    "lm = LinearRegression()\n",
    "lm.fit(XTrain, yTrain)    # train predict model\n",
    "\n",
    "print(\"train score:\", lm.score(XTrain, yTrain))\n",
    "print(\"test score:\", lm.score(XTest, yTest))\n",
    "predict_value = 0.7\n",
    "predict = lm.predict([[predict_value]])\n",
    "print(predict)"
   ]
  },
  {
   "cell_type": "markdown",
   "id": "8d1f6d0c-28e9-4857-8d29-bab9d82c90c5",
   "metadata": {},
   "source": [
    "----------------------------------------------------\n",
    "- citric acid"
   ]
  },
  {
   "cell_type": "code",
   "execution_count": 55,
   "id": "b472e30c-5f9a-4df5-bbde-b9a77545f8d3",
   "metadata": {},
   "outputs": [
    {
     "name": "stdout",
     "output_type": "stream",
     "text": [
      "--- citric acid ---\n",
      "train score: 0.06561935578154465\n",
      "test score: 0.015253671900837484\n",
      "[5.34167231]\n"
     ]
    }
   ],
   "source": [
    "import numpy as np\n",
    "import pandas as pd\n",
    "from sklearn.linear_model import LinearRegression\n",
    "from sklearn.model_selection import train_test_split\n",
    "\n",
    "i = 2\n",
    "print(\"---\", df.columns[i], \"---\")\n",
    "X = pd.DataFrame(x[i], columns=[str(df.columns[i])])\n",
    "y = pd.Series(y)\n",
    "XTrain, XTest, yTrain, yTest = train_test_split(X, y, test_size=0.3,\n",
    "                                                random_state=5)\n",
    "lm = LinearRegression()\n",
    "lm.fit(XTrain, yTrain)    # train predict model\n",
    "\n",
    "print(\"train score:\", lm.score(XTrain, yTrain))\n",
    "print(\"test score:\", lm.score(XTest, yTest))\n",
    "predict_value = 0\n",
    "predict = lm.predict([[predict_value]])\n",
    "print(predict)"
   ]
  },
  {
   "cell_type": "markdown",
   "id": "ce1dfdb9-5a0c-4558-a282-6b6365da6866",
   "metadata": {},
   "source": [
    "----------------------------------------------------\n",
    "- sulphates"
   ]
  },
  {
   "cell_type": "code",
   "execution_count": 53,
   "id": "c2f2227d-3f80-42a8-9aad-61ee0284780c",
   "metadata": {},
   "outputs": [
    {
     "name": "stdout",
     "output_type": "stream",
     "text": [
      "--- sulphates ---\n",
      "train score: 0.05501311147804444\n",
      "test score: 0.077603685731918\n",
      "[5.51828606]\n"
     ]
    }
   ],
   "source": [
    "import numpy as np\n",
    "import pandas as pd\n",
    "from sklearn.linear_model import LinearRegression\n",
    "from sklearn.model_selection import train_test_split\n",
    "\n",
    "i = 9\n",
    "print(\"---\", df.columns[i], \"---\")\n",
    "X = pd.DataFrame(x[i], columns=[str(df.columns[i])])\n",
    "y = pd.Series(y)\n",
    "XTrain, XTest, yTrain, yTest = train_test_split(X, y, test_size=0.3,\n",
    "                                                random_state=5)\n",
    "lm = LinearRegression()\n",
    "lm.fit(XTrain, yTrain)    # train predict model\n",
    "\n",
    "print(\"train score:\", lm.score(XTrain, yTrain))\n",
    "print(\"test score:\", lm.score(XTest, yTest))\n",
    "predict_value = 0.56\n",
    "predict = lm.predict([[predict_value]])\n",
    "print(predict)"
   ]
  },
  {
   "cell_type": "markdown",
   "id": "4d638748-9c4d-4f51-a51f-be54dddb687c",
   "metadata": {},
   "source": [
    "----------------------------------------------------\n",
    "- alcohol"
   ]
  },
  {
   "cell_type": "code",
   "execution_count": 54,
   "id": "2b1ea0b4-f5d7-4354-b5da-8ef25d7e331b",
   "metadata": {},
   "outputs": [
    {
     "name": "stdout",
     "output_type": "stream",
     "text": [
      "--- alcohol ---\n",
      "train score: 0.21218726592524262\n",
      "test score: 0.2579772813167879\n",
      "[5.26796053]\n"
     ]
    }
   ],
   "source": [
    "import numpy as np\n",
    "import pandas as pd\n",
    "from sklearn.linear_model import LinearRegression\n",
    "from sklearn.model_selection import train_test_split\n",
    "\n",
    "i = 10\n",
    "print(\"---\", df.columns[i], \"---\")\n",
    "X = pd.DataFrame(x[i], columns=[str(df.columns[i])])\n",
    "y = pd.Series(y)\n",
    "XTrain, XTest, yTrain, yTest = train_test_split(X, y, test_size=0.3,\n",
    "                                                random_state=5)\n",
    "lm = LinearRegression()\n",
    "lm.fit(XTrain, yTrain)    # train predict model\n",
    "\n",
    "print(\"train score:\", lm.score(XTrain, yTrain))\n",
    "print(\"test score:\", lm.score(XTest, yTest))\n",
    "predict_value = 9.4\n",
    "predict = lm.predict([[predict_value]])\n",
    "print(predict)"
   ]
  },
  {
   "cell_type": "markdown",
   "id": "a1879a46-ba78-41f5-9d17-2db2e9098bd4",
   "metadata": {},
   "source": [
    "#### 3. 結論\n",
    "對volatile acidity、citric acid、sulphates、alcohol 分別測試後，  \n",
    "分數高低依序為: alcohol > volatile acidity > sulphates > citric acid。  \n",
    "且會對應於四者關聯係數之高低: |0.48| > |-0.39| > |0.25| > |0.23|，  \n",
    "\n",
    "實際操作數據對四者進行預測，正確值為 5，  \n",
    "四者分別得出的數據為: 5.26796053、5.30786745、5.34167231、5.51828606，  \n",
    "符合前面預測出的成果，其中以 alcohol 的誤差最小，  \n",
    "因此最終得出結論: 使用 alcohol 進行預測，得出來的效果會最好。\n"
   ]
  }
 ],
 "metadata": {
  "kernelspec": {
   "display_name": "Python 3 (ipykernel)",
   "language": "python",
   "name": "python3"
  },
  "language_info": {
   "codemirror_mode": {
    "name": "ipython",
    "version": 3
   },
   "file_extension": ".py",
   "mimetype": "text/x-python",
   "name": "python",
   "nbconvert_exporter": "python",
   "pygments_lexer": "ipython3",
   "version": "3.9.7"
  }
 },
 "nbformat": 4,
 "nbformat_minor": 5
}
